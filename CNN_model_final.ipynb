{
 "cells": [
  {
   "cell_type": "code",
   "execution_count": null,
   "id": "f8c6f017",
   "metadata": {},
   "outputs": [],
   "source": [
    "import matplotlib.pyplot as plt\n",
    "import os\n",
    "import collections\n",
    "from glob import glob\n",
    "src_path = \"DATA/TRAIN\"\n",
    "sub_class = os.listdir(src_path)\n",
    "print(sub_class)"
   ]
  },
  {
   "cell_type": "code",
   "execution_count": null,
   "id": "d3413c9f",
   "metadata": {},
   "outputs": [],
   "source": [
    "import tensorflow as tf\n",
    "tf.config.threading.set_intra_op_parallelism_threads(2)\n",
    "tf.config.threading.set_inter_op_parallelism_threads(2)"
   ]
  },
  {
   "cell_type": "code",
   "execution_count": null,
   "id": "e4daed35",
   "metadata": {},
   "outputs": [],
   "source": [
    "from keras.models import Sequential\n",
    "from keras.layers import Conv2D, MaxPooling2D, Dense, Flatten, Dropout\n",
    "from keras.preprocessing.image import ImageDataGenerator"
   ]
  },
  {
   "cell_type": "code",
   "execution_count": null,
   "id": "35d9bf79",
   "metadata": {},
   "outputs": [],
   "source": [
    "import scipy"
   ]
  },
  {
   "cell_type": "code",
   "execution_count": null,
   "id": "f0d17372",
   "metadata": {},
   "outputs": [],
   "source": [
    "SRC_PATH_TRAIN = 'DATA/TRAIN'\n",
    "SRC_PATH_TEST = 'DATA/TEST'"
   ]
  },
  {
   "cell_type": "code",
   "execution_count": null,
   "id": "d48f625b",
   "metadata": {},
   "outputs": [],
   "source": [
    "batch_size = 8\n",
    "train_generator = train_datagen.flow_from_directory(\n",
    "    directory=SRC_PATH_TRAIN,\n",
    "    target_size=(100, 100),\n",
    "    color_mode=\"rgb\",\n",
    "    batch_size=batch_size,\n",
    "    class_mode=\"categorical\",\n",
    "    subset='training',\n",
    "    shuffle=True,\n",
    "    seed=123\n",
    ")\n",
    "valid_generator = train_datagen.flow_from_directory(\n",
    "    directory=SRC_PATH_TRAIN,\n",
    "    target_size=(100, 100),\n",
    "    color_mode=\"rgb\",\n",
    "    batch_size=batch_size,\n",
    "    class_mode=\"categorical\",\n",
    "    subset='validation',\n",
    "    shuffle=True,\n",
    "    seed=123\n",
    ")\n",
    "test_generator = test_datagen.flow_from_directory(\n",
    "    directory=SRC_PATH_TEST,\n",
    "    target_size=(100, 100),\n",
    "    color_mode=\"rgb\",\n",
    "    batch_size=1,\n",
    "    class_mode=None,\n",
    "    shuffle=False,\n",
    "    seed=123\n",
    ")"
   ]
  },
  {
   "cell_type": "code",
   "execution_count": null,
   "id": "eca788ed",
   "metadata": {},
   "outputs": [],
   "source": [
    "for images_batch, labels_batch in train_generator:\n",
    "    print(images_batch.shape)\n",
    "    print(labels_batch.shape)\n",
    "    break"
   ]
  },
  {
   "cell_type": "code",
   "execution_count": null,
   "id": "9e4bc035",
   "metadata": {},
   "outputs": [],
   "source": [
    "num_classes = 8\n",
    "with tf.device('/CPU:0'):\n",
    "    model = tf.keras.Sequential([\n",
    "      tf.keras.layers.Conv2D(32, 3, activation='relu',input_shape=(100, 100, 3)),\n",
    "      tf.keras.layers.MaxPooling2D(),\n",
    "      tf.keras.layers.Conv2D(32, 3, activation='relu'),\n",
    "      tf.keras.layers.MaxPooling2D(),\n",
    "      tf.keras.layers.Conv2D(32, 3, activation='relu'),\n",
    "      tf.keras.layers.MaxPooling2D(),\n",
    "      tf.keras.layers.Flatten(),\n",
    "      tf.keras.layers.Dense(128, activation='relu'),\n",
    "      tf.keras.layers.Dense(num_classes)\n",
    "    ])"
   ]
  },
  {
   "cell_type": "code",
   "execution_count": null,
   "id": "b0606161",
   "metadata": {},
   "outputs": [],
   "source": [
    "model.compile(\n",
    "  optimizer='adam',\n",
    "  loss=tf.losses.SparseCategoricalCrossentropy(from_logits=True),\n",
    "  metrics=['accuracy'])"
   ]
  },
  {
   "cell_type": "code",
   "execution_count": null,
   "id": "7bccc968",
   "metadata": {},
   "outputs": [],
   "source": [
    "model.summary()"
   ]
  },
  {
   "cell_type": "code",
   "execution_count": null,
   "id": "ee13d049",
   "metadata": {},
   "outputs": [],
   "source": [
    "import os\n",
    "checkpoint_path = \"training_3/cp.ckpt\"\n",
    "checkpoint_dir = os.path.dirname(checkpoint_path)\n",
    "\n",
    "# Create a callback that saves the model's weights\n",
    "cp_callback = tf.keras.callbacks.ModelCheckpoint(filepath=checkpoint_path,\n",
    "                                                 save_weights_only=True,\n",
    "                                                 verbose=1)"
   ]
  },
  {
   "cell_type": "code",
   "execution_count": null,
   "id": "e269e420",
   "metadata": {},
   "outputs": [],
   "source": [
    "model = create_model()"
   ]
  },
  {
   "cell_type": "code",
   "execution_count": null,
   "id": "b9bf6fe5",
   "metadata": {},
   "outputs": [],
   "source": [
    "with tf.device('/CPU:0'):\n",
    "    history = model.fit(\n",
    "            train_generator,\n",
    "            epochs=10,\n",
    "            validation_data=valid_generator,\n",
    "            use_multiprocessing=True,\n",
    "            callbacks=[cp_callback])\n"
   ]
  },
  {
   "cell_type": "code",
   "execution_count": null,
   "id": "6a731291",
   "metadata": {},
   "outputs": [],
   "source": [
    "score = model.evaluate(valid_generator)\n",
    "print('Test loss:', score[0])\n",
    "print('Test accuracy:', score[1])"
   ]
  },
  {
   "cell_type": "code",
   "execution_count": null,
   "id": "bb0b3995",
   "metadata": {},
   "outputs": [],
   "source": [
    "predict=model.predict(test_generator)\n",
    "# predict the class label\n",
    "y_classes = predict.argmax(axis=-1)"
   ]
  },
  {
   "cell_type": "code",
   "execution_count": null,
   "id": "1f501bc5",
   "metadata": {},
   "outputs": [],
   "source": [
    "score = model.evaluate(test_generator)\n",
    "print('Test loss:', score[0])\n",
    "print('Test accuracy:', score[1])"
   ]
  },
  {
   "cell_type": "code",
   "execution_count": null,
   "id": "aafee122",
   "metadata": {},
   "outputs": [],
   "source": [
    "def calculate_average_accurency(path_to_data_dir, image_width, image_height):\n",
    "    data_container = collections.defaultdict(list)\n",
    "    path_to_prediction_candidates = Path(path_to_data_dir)\n",
    "    image_count = len(list(path_to_prediction_candidates.glob('*.png')))\n",
    "    print(f'found {image_count} images in path {path_to_data_dir}\"')\n",
    "    print(f'testing test set...')\n",
    "    all_images = list(path_to_prediction_candidates.glob('*'))\n",
    "    for count, path_to_image in enumerate(all_images):\n",
    "        img = keras.preprocessing.image.load_img(\n",
    "            path_to_image, target_size=(image_width, image_height)\n",
    "        )\n",
    "        img_array = keras.preprocessing.image.img_to_array(img)\n",
    "        img_array = tf.expand_dims(img_array, 0)\n",
    "        predictions = model.predict(img_array)\n",
    "        list_of_predictions = softmax(predictions[0])\n",
    "        for label, accurency in zip(class_names, list_of_predictions):\n",
    "            data_container[label].append(accurency)\n",
    "    for key, value in data_container.items():\n",
    "        print(f'Average prediction accurency: {key} -> {str(round(np.mean(value),5))}')"
   ]
  },
  {
   "cell_type": "code",
   "execution_count": null,
   "id": "81aa1c28",
   "metadata": {},
   "outputs": [],
   "source": [
    "calculate_average_accurency('DATA/TEST_PRED/movie1_1440p/', 100, 100)"
   ]
  },
  {
   "cell_type": "code",
   "execution_count": null,
   "id": "4027f65e",
   "metadata": {},
   "outputs": [],
   "source": [
    "calculate_average_accurency('DATA/TEST_PRED/movie2_1440p/', 100, 100)"
   ]
  },
  {
   "cell_type": "code",
   "execution_count": null,
   "id": "71e45bdd",
   "metadata": {},
   "outputs": [],
   "source": [
    "calculate_average_accurency('DATA/TEST_PRED/movie1_2160p/', 100, 100)"
   ]
  },
  {
   "cell_type": "code",
   "execution_count": null,
   "id": "a029baea",
   "metadata": {},
   "outputs": [],
   "source": [
    "calculate_average_accurency('DATA/TEST_PRED/movie2_2160p/', 100, 100)"
   ]
  }
 ],
 "metadata": {
  "kernelspec": {
   "display_name": "python-env",
   "language": "python",
   "name": "python-env"
  },
  "language_info": {
   "codemirror_mode": {
    "name": "ipython",
    "version": 3
   },
   "file_extension": ".py",
   "mimetype": "text/x-python",
   "name": "python",
   "nbconvert_exporter": "python",
   "pygments_lexer": "ipython3",
   "version": "3.10.4"
  }
 },
 "nbformat": 4,
 "nbformat_minor": 5
}
